{
 "cells": [
  {
   "cell_type": "code",
   "execution_count": 98,
   "metadata": {},
   "outputs": [],
   "source": [
    "import numpy as np\n",
    "import pandas as pd\n",
    "from sklearn.model_selection import train_test_split\n",
    "from sklearn.preprocessing import StandardScaler\n",
    "from sklearn.neighbors import KNeighborsClassifier\n",
    "from sklearn.tree import DecisionTreeClassifier\n",
    "from sklearn.metrics import f1_score\n",
    "from sklearn.naive_bayes import GaussianNB\n",
    "from imblearn.over_sampling import SMOTE\n",
    "from imblearn.under_sampling import RandomUnderSampler\n",
    "from sklearn.feature_selection import r_regression, RFE, SelectFromModel\n",
    "from sklearn.linear_model import LassoCV"
   ]
  },
  {
   "cell_type": "markdown",
   "metadata": {},
   "source": [
    "Ladownie danych "
   ]
  },
  {
   "cell_type": "code",
   "execution_count": 99,
   "metadata": {},
   "outputs": [],
   "source": [
    "data = np.loadtxt(\"eeg.csv\", dtype=float, delimiter=',')\n",
    "features = data[:, :-1]\n",
    "classes = data[:,-1]"
   ]
  },
  {
   "cell_type": "code",
   "execution_count": 100,
   "metadata": {},
   "outputs": [],
   "source": [
    "def DownWeighting():\n",
    "    pass"
   ]
  },
  {
   "cell_type": "markdown",
   "metadata": {},
   "source": [
    "Zadaeklarowanie klasyfikatorow, metod balansowania oraz selekcji cech"
   ]
  },
  {
   "cell_type": "code",
   "execution_count": 101,
   "metadata": {},
   "outputs": [],
   "source": [
    "classifiers = {\n",
    "    'KNN': KNeighborsClassifier(),\n",
    "    'DecisionTree': DecisionTreeClassifier(),\n",
    "    'Beyesian': GaussianNB()    \n",
    "}"
   ]
  },
  {
   "cell_type": "code",
   "execution_count": 102,
   "metadata": {},
   "outputs": [],
   "source": [
    "balancing_methods = {\n",
    "    'Undersampling': RandomUnderSampler(),\n",
    "    'SMOTE': SMOTE(),\n",
    "    # 'Down-weighting': None\n",
    "}"
   ]
  },
  {
   "cell_type": "markdown",
   "metadata": {},
   "source": [
    "eksperyment"
   ]
  },
  {
   "cell_type": "code",
   "execution_count": 103,
   "metadata": {},
   "outputs": [],
   "source": [
    "results = pd.DataFrame(columns=['classifier', 'balance_method', 'accuracy'])"
   ]
  },
  {
   "cell_type": "code",
   "execution_count": 104,
   "metadata": {},
   "outputs": [
    {
     "name": "stdout",
     "output_type": "stream",
     "text": [
      "RandomUnderSampler()\n",
      "[2. 1. 1. ... 2. 2. 1.] [1.   0.13 0.13 ... 1.   1.   0.13]\n",
      "SMOTE()\n",
      "[1. 2. 1. ... 2. 1. 2.] [0.13 1.   0.13 ... 1.   0.13 1.  ]\n"
     ]
    },
    {
     "name": "stderr",
     "output_type": "stream",
     "text": [
      "C:\\Users\\olcia\\AppData\\Local\\Temp\\ipykernel_46400\\2592389132.py:26: FutureWarning: The frame.append method is deprecated and will be removed from pandas in a future version. Use pandas.concat instead.\n",
      "  results = results.append({'classifier': classifier_name, 'balance_method': balancing_name, 'accuracy': accuracy}, ignore_index=True)\n",
      "C:\\Users\\olcia\\AppData\\Local\\Temp\\ipykernel_46400\\2592389132.py:26: FutureWarning: The frame.append method is deprecated and will be removed from pandas in a future version. Use pandas.concat instead.\n",
      "  results = results.append({'classifier': classifier_name, 'balance_method': balancing_name, 'accuracy': accuracy}, ignore_index=True)\n",
      "C:\\Users\\olcia\\AppData\\Local\\Temp\\ipykernel_46400\\2592389132.py:26: FutureWarning: The frame.append method is deprecated and will be removed from pandas in a future version. Use pandas.concat instead.\n",
      "  results = results.append({'classifier': classifier_name, 'balance_method': balancing_name, 'accuracy': accuracy}, ignore_index=True)\n"
     ]
    },
    {
     "name": "stderr",
     "output_type": "stream",
     "text": [
      "C:\\Users\\olcia\\AppData\\Local\\Temp\\ipykernel_46400\\2592389132.py:26: FutureWarning: The frame.append method is deprecated and will be removed from pandas in a future version. Use pandas.concat instead.\n",
      "  results = results.append({'classifier': classifier_name, 'balance_method': balancing_name, 'accuracy': accuracy}, ignore_index=True)\n",
      "C:\\Users\\olcia\\AppData\\Local\\Temp\\ipykernel_46400\\2592389132.py:26: FutureWarning: The frame.append method is deprecated and will be removed from pandas in a future version. Use pandas.concat instead.\n",
      "  results = results.append({'classifier': classifier_name, 'balance_method': balancing_name, 'accuracy': accuracy}, ignore_index=True)\n",
      "C:\\Users\\olcia\\AppData\\Local\\Temp\\ipykernel_46400\\2592389132.py:26: FutureWarning: The frame.append method is deprecated and will be removed from pandas in a future version. Use pandas.concat instead.\n",
      "  results = results.append({'classifier': classifier_name, 'balance_method': balancing_name, 'accuracy': accuracy}, ignore_index=True)\n"
     ]
    },
    {
     "data": {
      "text/html": [
       "<div>\n",
       "<style scoped>\n",
       "    .dataframe tbody tr th:only-of-type {\n",
       "        vertical-align: middle;\n",
       "    }\n",
       "\n",
       "    .dataframe tbody tr th {\n",
       "        vertical-align: top;\n",
       "    }\n",
       "\n",
       "    .dataframe thead th {\n",
       "        text-align: right;\n",
       "    }\n",
       "</style>\n",
       "<table border=\"1\" class=\"dataframe\">\n",
       "  <thead>\n",
       "    <tr style=\"text-align: right;\">\n",
       "      <th></th>\n",
       "      <th>classifier</th>\n",
       "      <th>balance_method</th>\n",
       "      <th>accuracy</th>\n",
       "    </tr>\n",
       "  </thead>\n",
       "  <tbody>\n",
       "    <tr>\n",
       "      <th>0</th>\n",
       "      <td>KNN</td>\n",
       "      <td>Undersampling</td>\n",
       "      <td>0.901786</td>\n",
       "    </tr>\n",
       "    <tr>\n",
       "      <th>1</th>\n",
       "      <td>DecisionTree</td>\n",
       "      <td>Undersampling</td>\n",
       "      <td>0.696833</td>\n",
       "    </tr>\n",
       "    <tr>\n",
       "      <th>2</th>\n",
       "      <td>Beyesian</td>\n",
       "      <td>Undersampling</td>\n",
       "      <td>0.589286</td>\n",
       "    </tr>\n",
       "    <tr>\n",
       "      <th>3</th>\n",
       "      <td>KNN</td>\n",
       "      <td>SMOTE</td>\n",
       "      <td>0.837209</td>\n",
       "    </tr>\n",
       "    <tr>\n",
       "      <th>4</th>\n",
       "      <td>DecisionTree</td>\n",
       "      <td>SMOTE</td>\n",
       "      <td>0.645431</td>\n",
       "    </tr>\n",
       "    <tr>\n",
       "      <th>5</th>\n",
       "      <td>Beyesian</td>\n",
       "      <td>SMOTE</td>\n",
       "      <td>0.666667</td>\n",
       "    </tr>\n",
       "  </tbody>\n",
       "</table>\n",
       "</div>"
      ],
      "text/plain": [
       "     classifier balance_method  accuracy\n",
       "0           KNN  Undersampling  0.901786\n",
       "1  DecisionTree  Undersampling  0.696833\n",
       "2      Beyesian  Undersampling  0.589286\n",
       "3           KNN          SMOTE  0.837209\n",
       "4  DecisionTree          SMOTE  0.645431\n",
       "5      Beyesian          SMOTE  0.666667"
      ]
     },
     "execution_count": 104,
     "metadata": {},
     "output_type": "execute_result"
    }
   ],
   "source": [
    "for balancing_name, balancing_method in balancing_methods.items():\n",
    "\n",
    "    x_resampled, y_resampled = balancing_method.fit_resample(features, classes)\n",
    "    x_train, x_test, y_train, y_test = train_test_split(x_resampled, y_resampled, test_size=0.1, random_state=50, stratify=y_resampled)\n",
    "    y_train_weight = np.where(y_train == 1, 0.13, 1 )\n",
    "\n",
    "    scaler = StandardScaler()\n",
    "    x_train = scaler.fit_transform(x_train)\n",
    "    x_test = scaler.fit_transform(x_test)\n",
    "    \n",
    "    for classifier_name, classifier in classifiers.items():\n",
    "        classifier.fit(x_train, y_train)\n",
    "\n",
    "        y_pred  = classifier.predict(x_test)\n",
    "\n",
    "        accuracy = f1_score(y_test, y_pred)\n",
    "        results = results.append({'classifier': classifier_name, 'balance_method': balancing_name, 'accuracy': accuracy}, ignore_index=True)\n",
    "\n",
    "results"
   ]
  },
  {
   "cell_type": "code",
   "execution_count": 105,
   "metadata": {},
   "outputs": [
    {
     "data": {
      "text/html": [
       "<div>\n",
       "<style scoped>\n",
       "    .dataframe tbody tr th:only-of-type {\n",
       "        vertical-align: middle;\n",
       "    }\n",
       "\n",
       "    .dataframe tbody tr th {\n",
       "        vertical-align: top;\n",
       "    }\n",
       "\n",
       "    .dataframe thead th {\n",
       "        text-align: right;\n",
       "    }\n",
       "</style>\n",
       "<table border=\"1\" class=\"dataframe\">\n",
       "  <thead>\n",
       "    <tr style=\"text-align: right;\">\n",
       "      <th></th>\n",
       "      <th>classifier</th>\n",
       "      <th>balance_method</th>\n",
       "      <th>accuracy</th>\n",
       "    </tr>\n",
       "  </thead>\n",
       "  <tbody>\n",
       "    <tr>\n",
       "      <th>5</th>\n",
       "      <td>Beyesian</td>\n",
       "      <td>SMOTE</td>\n",
       "      <td>0.666667</td>\n",
       "    </tr>\n",
       "    <tr>\n",
       "      <th>1</th>\n",
       "      <td>DecisionTree</td>\n",
       "      <td>Undersampling</td>\n",
       "      <td>0.696833</td>\n",
       "    </tr>\n",
       "    <tr>\n",
       "      <th>0</th>\n",
       "      <td>KNN</td>\n",
       "      <td>Undersampling</td>\n",
       "      <td>0.901786</td>\n",
       "    </tr>\n",
       "  </tbody>\n",
       "</table>\n",
       "</div>"
      ],
      "text/plain": [
       "     classifier balance_method  accuracy\n",
       "5      Beyesian          SMOTE  0.666667\n",
       "1  DecisionTree  Undersampling  0.696833\n",
       "0           KNN  Undersampling  0.901786"
      ]
     },
     "execution_count": 105,
     "metadata": {},
     "output_type": "execute_result"
    }
   ],
   "source": [
    "max_indexes = results.groupby('classifier')['accuracy'].idxmax()\n",
    "results_best_balance = results.loc[max_indexes]\n",
    "results_best_balance"
   ]
  },
  {
   "cell_type": "code",
   "execution_count": 106,
   "metadata": {},
   "outputs": [],
   "source": [
    "results_with_selector = pd.DataFrame(columns= ['classifier', 'balance_method', 'accuracy', 'selector_method', 'k'])"
   ]
  },
  {
   "cell_type": "markdown",
   "metadata": {},
   "source": [
    "sprawdzenie selektora -rekurcyjne usuwanie cech od k cech "
   ]
  },
  {
   "cell_type": "code",
   "execution_count": 107,
   "metadata": {},
   "outputs": [
    {
     "name": "stdout",
     "output_type": "stream",
     "text": [
      "14862 14862\n"
     ]
    },
    {
     "name": "stderr",
     "output_type": "stream",
     "text": [
      "C:\\Users\\olcia\\AppData\\Local\\Temp\\ipykernel_46400\\2439084728.py:38: FutureWarning: The frame.append method is deprecated and will be removed from pandas in a future version. Use pandas.concat instead.\n",
      "  results_with_selector = results_with_selector.append({'classifier': classifier_name, 'balance_method': balancing_name, 'accuracy': accuracy, 'selector_method': selector_name, 'k': k}, ignore_index=True)\n"
     ]
    },
    {
     "name": "stdout",
     "output_type": "stream",
     "text": [
      "2057 2057\n"
     ]
    },
    {
     "name": "stderr",
     "output_type": "stream",
     "text": [
      "C:\\Users\\olcia\\AppData\\Local\\Temp\\ipykernel_46400\\2439084728.py:38: FutureWarning: The frame.append method is deprecated and will be removed from pandas in a future version. Use pandas.concat instead.\n",
      "  results_with_selector = results_with_selector.append({'classifier': classifier_name, 'balance_method': balancing_name, 'accuracy': accuracy, 'selector_method': selector_name, 'k': k}, ignore_index=True)\n"
     ]
    },
    {
     "name": "stdout",
     "output_type": "stream",
     "text": [
      "2057 2057\n"
     ]
    },
    {
     "name": "stderr",
     "output_type": "stream",
     "text": [
      "C:\\Users\\olcia\\AppData\\Local\\Temp\\ipykernel_46400\\2439084728.py:38: FutureWarning: The frame.append method is deprecated and will be removed from pandas in a future version. Use pandas.concat instead.\n",
      "  results_with_selector = results_with_selector.append({'classifier': classifier_name, 'balance_method': balancing_name, 'accuracy': accuracy, 'selector_method': selector_name, 'k': k}, ignore_index=True)\n"
     ]
    }
   ],
   "source": [
    "from sklearn.svm import SVR\n",
    "estimator = SVR(kernel=\"linear\")\n",
    "selector_name = 'Recursive'\n",
    "selector_method = lambda k: RFE(estimator= estimator, n_features_to_select=k)\n",
    "\n",
    "\n",
    "\n",
    "for i, (classifier_name, balancing_name) in results_best_balance[['classifier', 'balance_method']].iterrows():\n",
    "    classifier = classifiers[classifier_name]\n",
    "    balancing_method = balancing_methods[balancing_name]\n",
    "\n",
    "    if balancing_name == 'Down-weighting':\n",
    "        class_weight = {0: 0.13, 1:1}\n",
    "        x_resampled, y_resampled = features, classes\n",
    "    else:\n",
    "        x_resampled, y_resampled = balancing_method.fit_resample(features, classes)\n",
    "    \n",
    "    x_train, x_test, y_train, y_test = train_test_split(x_resampled, y_resampled, test_size=0.1, random_state=50, stratify=y_resampled)\n",
    "    \n",
    "    scaler = StandardScaler()\n",
    "    x_train = scaler.fit_transform(x_train)\n",
    "    x_test = scaler.fit_transform(x_test)\n",
    "\n",
    "    for k in range(4, 5):\n",
    "        selector = selector_method(k)\n",
    "        selector.fit(x_train, y_train)\n",
    "        x_selected = selector.transform(x_train)\n",
    "        x_test_selected = selector.transform(x_test)\n",
    "        print(len(x_train), len(x_selected))\n",
    "        if balancing_name == 'Down-weighting':\n",
    "            classifier.fit(x_selected, y_train, class_weight=class_weight)\n",
    "        else:\n",
    "            classifier.fit(x_selected, y_train)\n",
    "\n",
    "        y_pred  = classifier.predict(x_test_selected)\n",
    "\n",
    "        accuracy = f1_score(y_test, y_pred)\n",
    "        results_with_selector = results_with_selector.append({'classifier': classifier_name, 'balance_method': balancing_name, 'accuracy': accuracy, 'selector_method': selector_name, 'k': k}, ignore_index=True)\n",
    "\n",
    "\n",
    "# x_selected"
   ]
  },
  {
   "cell_type": "markdown",
   "metadata": {},
   "source": [
    "sprawdzenie selektora LassoCV"
   ]
  },
  {
   "cell_type": "code",
   "execution_count": 108,
   "metadata": {},
   "outputs": [],
   "source": [
    "# 'Lasso': lambda k: SelectFromModel(LassoCV(n_features_to_select = k)),"
   ]
  },
  {
   "cell_type": "markdown",
   "metadata": {},
   "source": [
    "sprawdzenie korelacji liniowej pearsona"
   ]
  },
  {
   "cell_type": "code",
   "execution_count": 109,
   "metadata": {},
   "outputs": [],
   "source": [
    "    # 'Pearson': lambda k: GaussianNB(n_features_to_select = k),"
   ]
  },
  {
   "cell_type": "code",
   "execution_count": 110,
   "metadata": {},
   "outputs": [
    {
     "data": {
      "text/html": [
       "<div>\n",
       "<style scoped>\n",
       "    .dataframe tbody tr th:only-of-type {\n",
       "        vertical-align: middle;\n",
       "    }\n",
       "\n",
       "    .dataframe tbody tr th {\n",
       "        vertical-align: top;\n",
       "    }\n",
       "\n",
       "    .dataframe thead th {\n",
       "        text-align: right;\n",
       "    }\n",
       "</style>\n",
       "<table border=\"1\" class=\"dataframe\">\n",
       "  <thead>\n",
       "    <tr style=\"text-align: right;\">\n",
       "      <th></th>\n",
       "      <th>classifier</th>\n",
       "      <th>balance_method</th>\n",
       "      <th>accuracy</th>\n",
       "      <th>selector_method</th>\n",
       "      <th>k</th>\n",
       "    </tr>\n",
       "  </thead>\n",
       "  <tbody>\n",
       "    <tr>\n",
       "      <th>0</th>\n",
       "      <td>Beyesian</td>\n",
       "      <td>SMOTE</td>\n",
       "      <td>0.666667</td>\n",
       "      <td>Recursive</td>\n",
       "      <td>4</td>\n",
       "    </tr>\n",
       "    <tr>\n",
       "      <th>1</th>\n",
       "      <td>DecisionTree</td>\n",
       "      <td>Undersampling</td>\n",
       "      <td>0.657778</td>\n",
       "      <td>Recursive</td>\n",
       "      <td>4</td>\n",
       "    </tr>\n",
       "    <tr>\n",
       "      <th>2</th>\n",
       "      <td>KNN</td>\n",
       "      <td>Undersampling</td>\n",
       "      <td>0.645914</td>\n",
       "      <td>Recursive</td>\n",
       "      <td>4</td>\n",
       "    </tr>\n",
       "  </tbody>\n",
       "</table>\n",
       "</div>"
      ],
      "text/plain": [
       "     classifier balance_method  accuracy selector_method  k\n",
       "0      Beyesian          SMOTE  0.666667       Recursive  4\n",
       "1  DecisionTree  Undersampling  0.657778       Recursive  4\n",
       "2           KNN  Undersampling  0.645914       Recursive  4"
      ]
     },
     "execution_count": 110,
     "metadata": {},
     "output_type": "execute_result"
    }
   ],
   "source": [
    "results_with_selector "
   ]
  },
  {
   "cell_type": "markdown",
   "metadata": {},
   "source": [
    "wykresyaccuracy  od k cech dla każdej pary classifier+balance method dla każdego selektora"
   ]
  }
 ],
 "metadata": {
  "kernelspec": {
   "display_name": "Python 3",
   "language": "python",
   "name": "python3"
  },
  "language_info": {
   "codemirror_mode": {
    "name": "ipython",
    "version": 3
   },
   "file_extension": ".py",
   "mimetype": "text/x-python",
   "name": "python",
   "nbconvert_exporter": "python",
   "pygments_lexer": "ipython3",
   "version": "3.11.0"
  }
 },
 "nbformat": 4,
 "nbformat_minor": 2
}
